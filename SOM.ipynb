{
  "nbformat": 4,
  "nbformat_minor": 0,
  "metadata": {
    "colab": {
      "name": "CI_qs (1).ipynb",
      "provenance": []
    },
    "kernelspec": {
      "display_name": "Python 3",
      "name": "python3",
      "language": "python"
    },
    "language_info": {
      "name": "python",
      "version": "3.7.0"
    }
  },
  "cells": [
    {
      "cell_type": "code",
      "metadata": {
        "id": "8833dS0vRhFp"
      },
      "source": [
        "from __future__ import division\n",
        "import random\n",
        "import csv\n",
        "import numpy as np\n",
        "import pandas as pd\n",
        "import math\n",
        "from sklearn import preprocessing\n",
        "from countryinfo import CountryInfo\n",
        "import collections \n",
        "\n",
        "from matplotlib import pyplot as plt\n",
        "from matplotlib import patches as patches\n",
        "import pycountry\n",
        "import pypopulation\n",
        "import geopandas as gpd\n",
        "from descartes import PolygonPatch"
      ],
      "execution_count": null,
      "outputs": []
    },
    {
      "cell_type": "markdown",
      "metadata": {
        "id": "TvHG9_fLRhFt"
      },
      "source": [
        "Summation of Province entries into single Country entries"
      ]
    },
    {
      "cell_type": "code",
      "metadata": {
        "colab": {
          "base_uri": "https://localhost:8080/",
          "height": 419
        },
        "id": "c4lsb43rRhFv",
        "outputId": "e4939735-8b54-42f0-9520-b9c7bd36e3ff"
      },
      "source": [
        "# load data\n",
        "dataset = pd.read_csv('data.csv')\n",
        "# Total cases country wise\n",
        "dataset = dataset.groupby(['Country/Region'])[['Confirmed','Deaths', 'Recovered']].sum().reset_index()\n",
        "dataset"
      ],
      "execution_count": null,
      "outputs": [
        {
          "output_type": "execute_result",
          "data": {
            "text/html": [
              "<div>\n",
              "<style scoped>\n",
              "    .dataframe tbody tr th:only-of-type {\n",
              "        vertical-align: middle;\n",
              "    }\n",
              "\n",
              "    .dataframe tbody tr th {\n",
              "        vertical-align: top;\n",
              "    }\n",
              "\n",
              "    .dataframe thead th {\n",
              "        text-align: right;\n",
              "    }\n",
              "</style>\n",
              "<table border=\"1\" class=\"dataframe\">\n",
              "  <thead>\n",
              "    <tr style=\"text-align: right;\">\n",
              "      <th></th>\n",
              "      <th>Country/Region</th>\n",
              "      <th>Confirmed</th>\n",
              "      <th>Deaths</th>\n",
              "      <th>Recovered</th>\n",
              "    </tr>\n",
              "  </thead>\n",
              "  <tbody>\n",
              "    <tr>\n",
              "      <th>0</th>\n",
              "      <td>Afghanistan</td>\n",
              "      <td>36263</td>\n",
              "      <td>1269</td>\n",
              "      <td>25198</td>\n",
              "    </tr>\n",
              "    <tr>\n",
              "      <th>1</th>\n",
              "      <td>Albania</td>\n",
              "      <td>4880</td>\n",
              "      <td>144</td>\n",
              "      <td>2745</td>\n",
              "    </tr>\n",
              "    <tr>\n",
              "      <th>2</th>\n",
              "      <td>Algeria</td>\n",
              "      <td>27973</td>\n",
              "      <td>1163</td>\n",
              "      <td>18837</td>\n",
              "    </tr>\n",
              "    <tr>\n",
              "      <th>3</th>\n",
              "      <td>Andorra</td>\n",
              "      <td>907</td>\n",
              "      <td>52</td>\n",
              "      <td>803</td>\n",
              "    </tr>\n",
              "    <tr>\n",
              "      <th>4</th>\n",
              "      <td>Angola</td>\n",
              "      <td>950</td>\n",
              "      <td>41</td>\n",
              "      <td>242</td>\n",
              "    </tr>\n",
              "    <tr>\n",
              "      <th>...</th>\n",
              "      <td>...</td>\n",
              "      <td>...</td>\n",
              "      <td>...</td>\n",
              "      <td>...</td>\n",
              "    </tr>\n",
              "    <tr>\n",
              "      <th>182</th>\n",
              "      <td>West Bank and Gaza</td>\n",
              "      <td>10621</td>\n",
              "      <td>78</td>\n",
              "      <td>3752</td>\n",
              "    </tr>\n",
              "    <tr>\n",
              "      <th>183</th>\n",
              "      <td>Western Sahara</td>\n",
              "      <td>10</td>\n",
              "      <td>1</td>\n",
              "      <td>8</td>\n",
              "    </tr>\n",
              "    <tr>\n",
              "      <th>184</th>\n",
              "      <td>Yemen</td>\n",
              "      <td>1691</td>\n",
              "      <td>483</td>\n",
              "      <td>833</td>\n",
              "    </tr>\n",
              "    <tr>\n",
              "      <th>185</th>\n",
              "      <td>Zambia</td>\n",
              "      <td>4552</td>\n",
              "      <td>140</td>\n",
              "      <td>2815</td>\n",
              "    </tr>\n",
              "    <tr>\n",
              "      <th>186</th>\n",
              "      <td>Zimbabwe</td>\n",
              "      <td>2704</td>\n",
              "      <td>36</td>\n",
              "      <td>542</td>\n",
              "    </tr>\n",
              "  </tbody>\n",
              "</table>\n",
              "<p>187 rows × 4 columns</p>\n",
              "</div>"
            ],
            "text/plain": [
              "         Country/Region  Confirmed  Deaths  Recovered\n",
              "0           Afghanistan      36263    1269      25198\n",
              "1               Albania       4880     144       2745\n",
              "2               Algeria      27973    1163      18837\n",
              "3               Andorra        907      52        803\n",
              "4                Angola        950      41        242\n",
              "..                  ...        ...     ...        ...\n",
              "182  West Bank and Gaza      10621      78       3752\n",
              "183      Western Sahara         10       1          8\n",
              "184               Yemen       1691     483        833\n",
              "185              Zambia       4552     140       2815\n",
              "186            Zimbabwe       2704      36        542\n",
              "\n",
              "[187 rows x 4 columns]"
            ]
          },
          "metadata": {
            "tags": []
          },
          "execution_count": 24
        }
      ]
    },
    {
      "cell_type": "code",
      "metadata": {
        "id": "qDmOAIqGWtzl"
      },
      "source": [
        "populations, drop = [], []\n",
        "\n",
        "for i, country in enumerate(dataset['Country/Region']):\n",
        "    try: \n",
        "        populations.append(CountryInfo(country).population())\n",
        "    except:\n",
        "        drop.append(i)\n",
        "dataset = dataset.drop(drop)\n",
        "dataset['Population'] = populations\n",
        "\n",
        "dataset['Confirmed'] = dataset['Confirmed'] / dataset['Population']\n",
        "dataset['Deaths'] = dataset['Deaths'] / dataset['Population']\n",
        "dataset['Recovered'] = dataset['Recovered'] / dataset['Population']"
      ],
      "execution_count": null,
      "outputs": []
    },
    {
      "cell_type": "markdown",
      "metadata": {
        "id": "q244cbsaRhFv"
      },
      "source": [
        "Normalizing data to use for neural network"
      ]
    },
    {
      "cell_type": "code",
      "metadata": {
        "colab": {
          "base_uri": "https://localhost:8080/"
        },
        "id": "u7vlkuQeRhFw",
        "outputId": "ad888c73-3062-4f00-97a1-4211d57a0f48"
      },
      "source": [
        "# Extracting columns to normalize\n",
        "values = dataset[['Confirmed', 'Deaths', 'Recovered']].values\n",
        "# Applying Min Max Normalization\n",
        "min_max_scaler = preprocessing.MinMaxScaler()\n",
        "scaled = min_max_scaler.fit_transform(values)\n",
        "dataset[['Confirmed', 'Deaths', 'Recovered']] = pd.DataFrame(scaled)\n",
        "dataset = dataset.fillna(0)\n",
        "\n",
        "cases = dataset[['Confirmed', 'Deaths', 'Recovered']].values\n",
        "print(dataset)\n"
      ],
      "execution_count": null,
      "outputs": [
        {
          "output_type": "stream",
          "text": [
            "          Country/Region  Confirmed    Deaths  Recovered  Population\n",
            "0            Afghanistan   0.028798  0.038016   0.020669    26023100\n",
            "1                Albania   0.034838  0.038765   0.020233     2895947\n",
            "2                Algeria   0.014908  0.023428   0.010390    38700000\n",
            "4                 Angola   0.020578  0.027102   0.016078    24383301\n",
            "5    Antigua and Barbuda   0.081197  0.055890   0.036307       86295\n",
            "..                   ...        ...       ...        ...         ...\n",
            "181              Vietnam   0.000000  0.000000   0.000000    89708900\n",
            "183       Western Sahara   0.000000  0.000000   0.000000      586000\n",
            "184                Yemen   0.000000  0.000000   0.000000    25956000\n",
            "185               Zambia   0.000000  0.000000   0.000000    15023315\n",
            "186             Zimbabwe   0.000000  0.000000   0.000000    13061239\n",
            "\n",
            "[169 rows x 5 columns]\n"
          ],
          "name": "stdout"
        }
      ]
    },
    {
      "cell_type": "code",
      "metadata": {
        "id": "UEfqOC8WRhFw",
        "colab": {
          "base_uri": "https://localhost:8080/"
        },
        "outputId": "fa15a1ee-d0ff-4f6a-ad6f-9a650c0ec26d"
      },
      "source": [
        "raw_data = np.zeros((dataset.shape[0],3))\n",
        "for i in range(1, dataset.shape[0]):\n",
        "    try:\n",
        "        raw_data[i][0] = cases[i][0]\n",
        "        raw_data[i][1] = cases[i][1]\n",
        "        raw_data[i][2] = cases[i][2]\n",
        "    except KeyError:\n",
        "        pass\n",
        "\n",
        "raw_data = np.delete(raw_data, 0, 0)\n",
        "raw_data=raw_data.transpose()\n",
        "raw_data"
      ],
      "execution_count": null,
      "outputs": [
        {
          "output_type": "execute_result",
          "data": {
            "text/plain": [
              "array([[0.034838, 0.014908, 0.020578, 0.081197, 0.257220, 0.013313,\n",
              "        0.049868, 0.065947, 0.621050, 0.007932, 0.146934, 0.122495,\n",
              "        0.002781, 0.003608, 0.002654, 0.146957, 0.057280, 0.007497,\n",
              "        0.248398, 0.007362, 0.030296, 0.001253, 0.000760, 0.000246,\n",
              "        0.067802, 0.001384, 0.404318, 0.001253, 0.111083, 0.009535,\n",
              "        0.069546, 0.023626, 0.004616, 0.025525, 0.005167, 0.105728,\n",
              "        0.021786, 0.048582, 0.000778, 0.031953, 0.003364, 0.000589,\n",
              "        0.027946, 0.069002, 0.086956, 0.005182, 0.053036, 0.025689,\n",
              "        0.005089, 0.004548, 0.059304, 0.013685, 0.023116, 0.014085,\n",
              "        0.094270, 0.009263, 0.116943, 0.024190, 0.008176, 0.077930,\n",
              "        0.064699, 0.084014, 0.160207, 0.083874, 0.005013, 0.003591,\n",
              "        0.100820, 0.008844, 0.407878, 0.119313, 0.000000, 0.012613,\n",
              "        0.019528, 0.004923, 0.005435, 0.009301, 0.047905, 0.014222,\n",
              "        0.238089, 0.004739, 0.005998, 0.204400, 0.003239, 0.034833,\n",
              "        0.036200, 0.005587, 0.068358, 0.134729, 0.064956, 0.001941,\n",
              "        0.012864, 0.001345, 0.018002, 0.013986, 0.065468, 0.007028,\n",
              "        0.011549, 0.001306, 0.004716, 0.036616, 0.390225, 0.030089,\n",
              "        0.000112, 0.013601, 0.261871, 0.016811, 0.023288, 0.099360,\n",
              "        1.000000, 0.047608, 0.115602, 0.006340, 0.002639, 0.009818,\n",
              "        0.442068, 0.180949, 0.014908, 0.069506, 0.026186, 0.005889,\n",
              "        0.192432, 0.008278, 0.020870, 0.006063, 0.173489, 0.005772,\n",
              "        0.004131, 0.121251, 0.002803, 0.057434, 0.168802, 0.087188,\n",
              "        0.000546, 0.018299, 0.000160, 0.000991, 0.002527, 0.002246,\n",
              "        0.002682, 0.061263, 0.278250, 0.000608, 0.032274, 0.129685,\n",
              "        0.097411, 0.007251, 0.014343, 0.010900, 0.000292, 0.001287,\n",
              "        0.006213, 0.000000, 0.000000, 0.000000, 0.000000, 0.000000,\n",
              "        0.000000, 0.000000, 0.000000, 0.000000, 0.000000, 0.000000,\n",
              "        0.000000, 0.000000, 0.000000, 0.000000, 0.000000, 0.000000],\n",
              "       [0.038765, 0.023428, 0.027102, 0.055890, 0.184162, 0.005494,\n",
              "        0.065185, 0.034522, 0.083496, 0.019148, 0.044266, 0.682126,\n",
              "        0.004458, 0.002732, 0.000000, 0.205798, 0.060449, 0.000770,\n",
              "        0.335517, 0.005945, 0.037335, 0.002385, 0.000082, 0.000000,\n",
              "        0.196191, 0.004426, 0.401937, 0.002655, 0.142827, 0.007143,\n",
              "        0.019022, 0.025392, 0.006050, 0.017264, 0.000000, 0.271430,\n",
              "        0.041368, 0.049690, 0.000000, 0.040881, 0.002021, 0.000000,\n",
              "        0.046886, 0.356444, 0.022326, 0.002778, 0.088061, 0.004843,\n",
              "        0.000000, 0.000000, 0.086854, 0.003301, 0.011609, 0.011463,\n",
              "        0.104183, 0.047033, 0.023756, 0.020606, 0.014957, 0.159106,\n",
              "        0.096528, 0.215617, 0.044692, 0.450445, 0.006122, 0.001286,\n",
              "        0.026244, 0.005315, 0.104473, 0.175581, 0.000000, 0.012133,\n",
              "        0.009688, 0.004459, 0.012766, 0.007979, 0.020995, 0.021305,\n",
              "        0.158841, 0.004883, 0.003177, 0.034267, 0.006131, 0.016864,\n",
              "        0.034301, 0.006181, 0.286680, 0.163913, 0.084395, 0.000000,\n",
              "        0.007361, 0.000342, 0.002952, 0.001354, 0.284480, 0.003771,\n",
              "        0.013726, 0.003139, 0.003756, 0.038553, 0.074927, 0.024173,\n",
              "        0.000000, 0.004863, 0.465973, 0.015058, 0.033941, 0.127901,\n",
              "        0.056675, 0.086237, 0.071086, 0.000000, 0.000000, 0.000000,\n",
              "        1.000000, 0.069927, 0.011196, 0.058902, 0.000000, 0.008292,\n",
              "        0.003848, 0.004030, 0.043794, 0.006709, 0.102022, 0.004638,\n",
              "        0.003150, 0.476597, 0.000423, 0.035026, 0.456347, 0.188426,\n",
              "        0.001358, 0.005732, 0.000345, 0.000697, 0.002007, 0.004696,\n",
              "        0.003549, 0.057249, 0.361427, 0.000045, 0.029679, 0.028473,\n",
              "        0.557513, 0.008015, 0.003094, 0.003768, 0.001330, 0.014507,\n",
              "        0.007265, 0.000000, 0.000000, 0.000000, 0.000000, 0.000000,\n",
              "        0.000000, 0.000000, 0.000000, 0.000000, 0.000000, 0.000000,\n",
              "        0.000000, 0.000000, 0.000000, 0.000000, 0.000000, 0.000000],\n",
              "       [0.020233, 0.010390, 0.016078, 0.036307, 0.189112, 0.008387,\n",
              "        0.045675, 0.051936, 0.585494, 0.007040, 0.136279, 0.033186,\n",
              "        0.001587, 0.002214, 0.002431, 0.045722, 0.027755, 0.000664,\n",
              "        0.193620, 0.007488, 0.016454, 0.001141, 0.000674, 0.000207,\n",
              "        0.000000, 0.001309, 0.383282, 0.001231, 0.058441, 0.009165,\n",
              "        0.017319, 0.019688, 0.004477, 0.021197, 0.005389, 0.046881,\n",
              "        0.008483, 0.025937, 0.000624, 0.031196, 0.001550, 0.000447,\n",
              "        0.027002, 0.026235, 0.058411, 0.004383, 0.050288, 0.023523,\n",
              "        0.004929, 0.004751, 0.043828, 0.012566, 0.009817, 0.008671,\n",
              "        0.012328, 0.007193, 0.118578, 0.016064, 0.004924, 0.069854,\n",
              "        0.045736, 0.078195, 0.070047, 0.069758, 0.003690, 0.003333,\n",
              "        0.066827, 0.004000, 0.359574, 0.078358, 0.000061, 0.011199,\n",
              "        0.008889, 0.001302, 0.003136, 0.001970, 0.046564, 0.011813,\n",
              "        0.187364, 0.002222, 0.006033, 0.159318, 0.002590, 0.034118,\n",
              "        0.028013, 0.005619, 0.054172, 0.096926, 0.060081, 0.001586,\n",
              "        0.010558, 0.000000, 0.001020, 0.010620, 0.000239, 0.007106,\n",
              "        0.008672, 0.001279, 0.002177, 0.036230, 0.297700, 0.027307,\n",
              "        0.000032, 0.008995, 0.188802, 0.005606, 0.018219, 0.072068,\n",
              "        1.000000, 0.027609, 0.087912, 0.005822, 0.002552, 0.007638,\n",
              "        0.428314, 0.154655, 0.010235, 0.000000, 0.009255, 0.004531,\n",
              "        0.178317, 0.006369, 0.017914, 0.003048, 0.108673, 0.005506,\n",
              "        0.002203, 0.069019, 0.002233, 0.036963, 0.000000, 0.080597,\n",
              "        0.000000, 0.015767, 0.000082, 0.001024, 0.001853, 0.002057,\n",
              "        0.002249, 0.058599, 0.088644, 0.000604, 0.018479, 0.118661,\n",
              "        0.000478, 0.005963, 0.008172, 0.007038, 0.000291, 0.000685,\n",
              "        0.004000, 0.000000, 0.000000, 0.000000, 0.000000, 0.000000,\n",
              "        0.000000, 0.000000, 0.000000, 0.000000, 0.000000, 0.000000,\n",
              "        0.000000, 0.000000, 0.000000, 0.000000, 0.000000, 0.000000]])"
            ]
          },
          "metadata": {
            "tags": []
          },
          "execution_count": 27
        }
      ]
    },
    {
      "cell_type": "markdown",
      "metadata": {
        "id": "y7dAvzyBRhFx"
      },
      "source": [
        "Scaling data by population"
      ]
    },
    {
      "cell_type": "code",
      "metadata": {
        "id": "w6VBNITbRhFy"
      },
      "source": [
        "def color_map(value):\n",
        "    if value < 0.002:\n",
        "        return([1,1,0.6])\n",
        "    elif value < 0.01 and value >= 0.002:\n",
        "        return([1,1,0])\n",
        "    elif value < 0.06 and value >= 0.01:\n",
        "        return([1,0.8,0.2])\n",
        "    elif value < 0.15 and value >= 0.06:\n",
        "        return([1,0.6,0.4])\n",
        "    elif value < 0.5 and value >= 0.15:\n",
        "        return([1,0.5,0.1])\n",
        "    elif value < 0.9 and value >= 0.5:\n",
        "        return([1,0.3,0.4])\n",
        "    elif value < 1.2 and value >= 0.9:\n",
        "        return([1,0.1,0.1])\n",
        "    elif value < 1.6 and value >= 1.2:\n",
        "        return([0.9,0,0])\n",
        "    elif value < 1.9 and value >= 1.6:\n",
        "        return([0.8,0,0])\n",
        "    elif value >= 1.9:\n",
        "        return([0.6,0,0.1])"
      ],
      "execution_count": null,
      "outputs": []
    },
    {
      "cell_type": "code",
      "metadata": {
        "id": "Uv2F4dTqRhFy"
      },
      "source": [
        "def find_bmu(input,network):\n",
        "    minimum = float('inf')\n",
        "    bmu_idx = np.array([0,0])\n",
        "    # find distance between input and neurons\n",
        "    for i in range(network.shape[0]):\n",
        "        for j in range(network.shape[1]):\n",
        "            # w = abs(network[i][j][0]- input[0]) + abs(network[i][j][1]- input[1]) + abs(network[i][j][2]- input[2])\n",
        "            w = math.sqrt((network[i][j][0]-input[0])**2 + (network[i][j][1]-input[1])**2 + (network[i][j][2]-input[2])**2)\n",
        "            if w < minimum:\n",
        "                bmu_idx[0], bmu_idx[1] = i, j\n",
        "                minimum = w\n",
        "    bmu = network[bmu_idx[0], bmu_idx[1], :]\n",
        "    return (bmu,bmu_idx)"
      ],
      "execution_count": null,
      "outputs": []
    },
    {
      "cell_type": "markdown",
      "metadata": {
        "id": "BXEMlPZ_RhFz"
      },
      "source": [
        "Initialization for SOM"
      ]
    },
    {
      "cell_type": "code",
      "metadata": {
        "id": "kZwmnM3sbCMS"
      },
      "source": [
        "#setting print format\n",
        "np.set_printoptions(formatter={'float_kind':'{:f}'.format})\n",
        "\n",
        "dimensions = np.array([14,14]) #14 x 14 matrix\n",
        "iterations = 5000\n",
        "learning_rate = 0.01\n",
        "\n",
        "#Get dimensions for raw data\n",
        "m = raw_data.shape[0]\n",
        "n = raw_data.shape[1]\n",
        "\n",
        "#randomized weight vector for SOM\n",
        "weight_matrix =  np.random.random((dimensions[0], dimensions[1], m))\n",
        "radius = max(dimensions[0], dimensions[1])/2 \n",
        "decay = iterations/np.log(radius)"
      ],
      "execution_count": null,
      "outputs": []
    },
    {
      "cell_type": "markdown",
      "metadata": {
        "id": "MCEu_ZhnbFY3"
      },
      "source": [
        "SOM Algorithm"
      ]
    },
    {
      "cell_type": "code",
      "metadata": {
        "id": "EHgYieeJc9p2"
      },
      "source": [
        "lst=[]\n",
        "#Learning process for SOM\n",
        "for i in range(iterations):\n",
        "  # select a training example at random\n",
        "  rand_num = np.random.randint(1, n)\n",
        "  t = raw_data[:, rand_num].reshape(np.array([m, 1]))\n",
        "  \n",
        "  # find Best Matching Unit\n",
        "  bmu, bmu_idx = find_bmu(t,weight_matrix)\n",
        "\n",
        "  # decay the SOM parameters\n",
        "  r = radius * np.exp(-i / decay)\n",
        "  l = learning_rate * np.exp(-i / iterations)\n",
        "\n",
        "  for x in range(weight_matrix.shape[0]):\n",
        "    for y in range(weight_matrix.shape[1]):\n",
        "        w = weight_matrix[x, y, :].reshape(m, 1)\n",
        "        # get the distance\n",
        "        w_dist = np.sum((np.array([x, y]) - bmu_idx) ** 2)\n",
        "        # checks if distance is within  radius\n",
        "        if w_dist <= r**2:\n",
        "            # calculate the degree of influence\n",
        "            influence = np.exp(-w_dist / (2* (r**2)))\n",
        "            # update the neuron's weight \n",
        "            new_w = w + (l * influence * (t - w))\n",
        "            if w_dist==0:\n",
        "              lsst=[]\n",
        "              lsst.append(new_w.reshape(1, 3)[0])\n",
        "              lsst.append(rand_num)\n",
        "              lst.append(lsst)\n",
        "            # update new weight to network\n",
        "            weight_matrix[x, y, :] = new_w.reshape(1, 3)\n",
        "        \n"
      ],
      "execution_count": null,
      "outputs": []
    },
    {
      "cell_type": "code",
      "metadata": {
        "colab": {
          "base_uri": "https://localhost:8080/",
          "height": 281
        },
        "id": "37hvCkyJbMGS",
        "outputId": "ffd05f1a-35aa-4029-849b-83b5f874fd94"
      },
      "source": [
        "def ColorMap(network, iteration):\n",
        "  fig = plt.figure()\n",
        "  ax = fig.add_subplot(111, aspect='equal')\n",
        "  ax.set_xlim((0, network.shape[0]+1))\n",
        "  ax.set_ylim((0, network.shape[1]+1))\n",
        "  ax.set_title('Self-Organising Map after %d iteration(s)' % iteration)\n",
        "\n",
        "  for x in range(1,network.shape[0]):\n",
        "    for y in range(1,network.shape[1]):\n",
        "        sump=network[x-1,y-1,:][0]+network[x-1,y-1,:][1]+network[x-1,y-1,:][2]\n",
        "        c=color_map(sump)\n",
        "        ax.add_patch(patches.Rectangle((x-0.5, y-0.5), 200,200,\n",
        "                                     facecolor=c,\n",
        "                                     edgecolor='none', label=\"ASDQWE\"))\n",
        "      \n",
        "\n",
        "  plt.show()\n",
        "ColorMap(weight_matrix, iterations)"
      ],
      "execution_count": null,
      "outputs": [
        {
          "output_type": "display_data",
          "data": {
            "image/png": "[encoded data removed]",
            "text/plain": [
              "<Figure size 432x288 with 1 Axes>"
            ]
          },
          "metadata": {
            "tags": [],
            "needs_background": "light"
          }
        }
      ]
    },
    {
      "cell_type": "markdown",
      "metadata": {
        "id": "xqYaqzb0RhF0"
      },
      "source": [
        "World Map"
      ]
    },
    {
      "cell_type": "code",
      "metadata": {
        "colab": {
          "base_uri": "https://localhost:8080/",
          "height": 278
        },
        "id": "ddjhd-BdrLy_",
        "outputId": "280123a9-79ca-4b9a-d045-354a3b5b04bc"
      },
      "source": [
        "''' Stack Overflow used for plotting '''\n",
        "\n",
        "country_names = []\n",
        "for line in range(len(dataset)):\n",
        "    try:\n",
        "      if(dataset['Country/Region'][line] not in country_names):\n",
        "        country_names.append(dataset['Country/Region'][line])\n",
        "    except KeyError:\n",
        "          pass\n",
        "\n",
        "def least_dist(l1,matrix):\n",
        "    min_dist=1000\n",
        "    for i in matrix:\n",
        "        for j in i:\n",
        "            sq_dist = (((j[0]-l1[0])**2) + ((j[1]-l1[1])**2) +((j[2]-l1[2])**2))\n",
        "            if sq_dist < min_dist:\n",
        "                min_dist = sq_dist\n",
        "                selected = j\n",
        "    return selected\n",
        "\n",
        "def one_istance(array):\n",
        "    one_instance=[]\n",
        "    country=[]\n",
        "    for x in array:\n",
        "        if x[1] not in country:\n",
        "            country.append(x[1])\n",
        "            one_instance.append(x)\n",
        "    return one_instance\n",
        "\n",
        "\n",
        "o=one_istance(lst)\n",
        "all_countries=[]\n",
        "country_names = []\n",
        "for i in o:\n",
        "    best_weight=least_dist(i[0],weight_matrix)\n",
        "    sump=best_weight[0]+best_weight[1]+best_weight[2]\n",
        "    c=color_map(sump)\n",
        "    all_countries.append([i[1],c])\n",
        "    \n",
        "\n",
        "countries_colors=[]\n",
        "\n",
        "for k in all_countries:\n",
        "  j=k[0]\n",
        "  news=[]\n",
        "  try:\n",
        "    news.append(CountryInfo(dataset['Country/Region'][j]).iso(3))\n",
        "  except KeyError:\n",
        "    pass\n",
        "  news.append(k[1])\n",
        "  countries_colors.append(news)\n",
        "\n",
        "world = gpd.read_file(gpd.datasets.get_path('naturalearth_lowres'))\n",
        "ax2 = world.plot(figsize=(8,8), edgecolor=u'gray', color=u\"white\")\n",
        "\n",
        "for count in countries_colors:\n",
        "    if (len(count)==1):\n",
        "      continue\n",
        "    else:\n",
        "    # plot a country on the provided axes\n",
        "      nami = world[world.iso_a3 == count[0]]\n",
        "      namigm = nami.__geo_interface__['features']\n",
        "      if namigm != []:\n",
        "          namig0 = {'type': namigm[0]['geometry']['type'], \\\n",
        "                'coordinates': namigm[0]['geometry']['coordinates']}\n",
        "          ax2.add_patch(PolygonPatch( namig0, fc=count[1], ec=\"black\", alpha=0.85, zorder=2 ))\n",
        "\n",
        "\n",
        "\n",
        "# the place to plot additional vector data (points, lines)\n",
        "plt.ylabel('Latitude')\n",
        "plt.xlabel('Longitude')\n",
        "\n",
        "#ax2.axis('scaled')\n",
        "plt.show()"
      ],
      "execution_count": null,
      "outputs": [
        {
          "output_type": "display_data",
          "data": {
            "image/png": "[encoded data removed]",
            "text/plain": [
              "<Figure size 576x576 with 1 Axes>"
            ]
          },
          "metadata": {
            "tags": [],
            "needs_background": "light"
          }
        }
      ]
    }
  ]
}